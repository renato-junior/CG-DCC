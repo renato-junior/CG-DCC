{
 "cells": [
  {
   "cell_type": "markdown",
   "metadata": {},
   "source": [
    "# Trabalho Prático - Ponto Extra 1\n",
    "---\n",
    "Renato Sérgio Lopes Júnior\n"
   ]
  },
  {
   "cell_type": "markdown",
   "metadata": {},
   "source": [
    "## Importa bibliotecas"
   ]
  },
  {
   "cell_type": "code",
   "execution_count": null,
   "metadata": {},
   "outputs": [],
   "source": [
    "import sys\n",
    "from OpenGL.GLUT import *\n",
    "from OpenGL.GL import *\n",
    "from OpenGL.GLU import *\n",
    "import numpy as np"
   ]
  },
  {
   "cell_type": "markdown",
   "metadata": {},
   "source": [
    "## Função para desenhar um pentágono no centro da janela\n",
    "Desenha um pentágono inscrito em uma circunferência com raio radius e centro em x_c, y_c"
   ]
  },
  {
   "cell_type": "code",
   "execution_count": null,
   "metadata": {},
   "outputs": [],
   "source": [
    "def draw_pentagon():\n",
    "    x_c, y_c = 250, 250 # Define o centro do pentágono\n",
    "    radius = 50\n",
    "    \n",
    "    glColor3f(0.0, 0.0, 1.0)\n",
    "    \n",
    "    glBegin(GL_POLYGON)\n",
    "    for theta in range(0, 361, 72):\n",
    "#         theta += 18 # Deixa pentágono no centro\n",
    "        x_p = x_c + radius*np.cos(np.deg2rad(theta))\n",
    "        y_p = y_c + radius*np.sin(np.deg2rad(theta))\n",
    "        glVertex2f(x_p, y_p)\n",
    "    glEnd()"
   ]
  },
  {
   "cell_type": "markdown",
   "metadata": {},
   "source": [
    "## Função Display\n",
    "Primeira a tela é limpa. Em seguida, é feita a rotação em torno do ponto (rot_x, rot_y). Por fim, o pentágono é desenhado.\n",
    "Um erro ocorre a partir da segunda mudança no ponto pivô da rotação: o centro da rotação fica um pouco desviado com relação ao pivô. Provavelmente, isso ocorre devido à composição das tranformações."
   ]
  },
  {
   "cell_type": "code",
   "execution_count": null,
   "metadata": {},
   "outputs": [],
   "source": [
    "orientation = 0\n",
    "rot_x = 0\n",
    "rot_y = 0\n",
    "                \n",
    "def display():\n",
    "    glMatrixMode(GL_MODELVIEW)\n",
    "    \n",
    "    glClear(GL_COLOR_BUFFER_BIT)\n",
    "\n",
    "    glTranslatef(rot_x, rot_y, 0)\n",
    "    glRotatef(orientation, 0, 0, 1)\n",
    "    glTranslatef(-rot_x, -rot_y, 0)\n",
    "    \n",
    "    draw_pentagon()\n",
    "\n",
    "    glFlush()"
   ]
  },
  {
   "cell_type": "markdown",
   "metadata": {},
   "source": [
    "## Funções para tratar o input do mouse/teclado\n",
    "O botão esquerdo do mouse gira o pentágono no sentido anti-horário. O direito, no sentido horário.\n",
    "A tecla espaço para o polígono."
   ]
  },
  {
   "cell_type": "code",
   "execution_count": null,
   "metadata": {},
   "outputs": [],
   "source": [
    "def mouse_click(button, state, x, y):\n",
    "    global orientation, rot_x, rot_y\n",
    "    if state == GLUT_UP:\n",
    "        return\n",
    "    print(x, y)\n",
    "    if button == GLUT_LEFT_BUTTON: # Girar no sentido anti-horário\n",
    "        orientation = -1\n",
    "        rot_x = x\n",
    "        rot_y = y\n",
    "#         glLoadIdentity()\n",
    "    elif button == GLUT_RIGHT_BUTTON: # Girar no sentido horário\n",
    "        orientation = 1\n",
    "        rot_x = x\n",
    "        rot_y = y\n",
    "#         glLoadIdentity()\n",
    "\n",
    "def key_pressed(key, x, y):\n",
    "    global orientation\n",
    "    if key == b' ':\n",
    "        orientation = 0"
   ]
  },
  {
   "cell_type": "markdown",
   "metadata": {},
   "source": [
    "## Funções auxiliares"
   ]
  },
  {
   "cell_type": "code",
   "execution_count": null,
   "metadata": {},
   "outputs": [],
   "source": [
    "def window_resize(w, h):\n",
    "    # Função chamada quando a janela é reescalonada\n",
    "    if(h == 0):\n",
    "        h = 1\n",
    "    \n",
    "    glViewport(0, 0, w, h)\n",
    "\n",
    "    glMatrixMode(GL_PROJECTION)\n",
    "    glLoadIdentity()\n",
    "\n",
    "    gluOrtho2D (0.0, 500.0, 500.0, 0.0)\n",
    "#     if w <= h:\n",
    "#         gluOrtho2D (0.0, 500.0, 500.0*h/w, 0.0)\n",
    "#     else:\n",
    "#         gluOrtho2D (0.0, 500.0*w/h, 500.0, 0.0)\n",
    "\n",
    "def timer(value):\n",
    "    # Função usada para chamar display() a cada 33ms\n",
    "    glutPostRedisplay()\n",
    "    glutTimerFunc(33, timer, 0)\n",
    "\n",
    "def init():   \n",
    "    glClearColor (1.0, 1.0, 1.0, 0.0)\n"
   ]
  },
  {
   "cell_type": "markdown",
   "metadata": {},
   "source": [
    "## Registro das funções do glut e invocação do loop principal"
   ]
  },
  {
   "cell_type": "code",
   "execution_count": null,
   "metadata": {},
   "outputs": [],
   "source": [
    "glutInit(sys.argv)\n",
    "glutInitDisplayMode(GLUT_SINGLE | GLUT_RGB)\n",
    "glutInitWindowSize(500, 500)\n",
    "glutInitWindowPosition(0, 0)\n",
    "glutCreateWindow(\"Pentagon\")\n",
    "glutDisplayFunc(display)\n",
    "glutTimerFunc(33, timer, 0)\n",
    "glutReshapeFunc(window_resize)\n",
    "glutMouseFunc(mouse_click)\n",
    "glutKeyboardFunc(key_pressed)\n",
    "init()\n",
    "\n",
    "glutMainLoop()"
   ]
  },
  {
   "cell_type": "code",
   "execution_count": null,
   "metadata": {},
   "outputs": [],
   "source": []
  }
 ],
 "metadata": {
  "kernelspec": {
   "display_name": "Python 3",
   "language": "python",
   "name": "python3"
  },
  "language_info": {
   "codemirror_mode": {
    "name": "ipython",
    "version": 3
   },
   "file_extension": ".py",
   "mimetype": "text/x-python",
   "name": "python",
   "nbconvert_exporter": "python",
   "pygments_lexer": "ipython3",
   "version": "3.6.5"
  }
 },
 "nbformat": 4,
 "nbformat_minor": 2
}
