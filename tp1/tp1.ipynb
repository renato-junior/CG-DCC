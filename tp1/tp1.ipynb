{
 "cells": [
  {
   "cell_type": "markdown",
   "metadata": {},
   "source": [
    "# Trabalho Prático 1\n",
    "---\n",
    "Renato Sérgio Lopes Júnior\n",
    "2016006875\n",
    "\n",
    "Neste trabalho são implementados três modelos de iluminsção usando a GLSL. Para ilustrar o funcionamento dos modelos, três objetos são desenhados na tela."
   ]
  },
  {
   "cell_type": "markdown",
   "metadata": {},
   "source": [
    "## Imports"
   ]
  },
  {
   "cell_type": "code",
   "execution_count": null,
   "metadata": {},
   "outputs": [],
   "source": [
    "import glfw\n",
    "from OpenGL.GL import *\n",
    "from OpenGL.GLU import *\n",
    "import OpenGL.GL.shaders\n",
    "import numpy\n",
    "import glm"
   ]
  },
  {
   "cell_type": "markdown",
   "metadata": {},
   "source": [
    "## Flat Shading\n",
    "\n",
    "No Flat Shader, a cor é calculada uma vez para cada face."
   ]
  },
  {
   "cell_type": "markdown",
   "metadata": {},
   "source": [
    "### Vertex Shader\n",
    "\n",
    "Como a cor é calculada uma vez para cada face, no Vertex Shader apenas se faz as transformações nas coordenadas no vértice. O cálculo da cor é feito no fragment shader."
   ]
  },
  {
   "cell_type": "code",
   "execution_count": null,
   "metadata": {},
   "outputs": [],
   "source": [
    "flat_vertex_shader = \"\"\"\n",
    "    #version 130\n",
    "\n",
    "    uniform mat4 model_view_matrix;\n",
    "    uniform mat4 model_view_projection_matrix;   \n",
    "\n",
    "    out vec3 Vertex;\n",
    "    \n",
    "    void main()\n",
    "    {\n",
    "        Vertex = vec3(model_view_matrix * gl_Vertex);\n",
    "        gl_Position = model_view_projection_matrix * gl_Vertex;\n",
    "    }\n",
    "\n",
    "    \"\"\""
   ]
  },
  {
   "cell_type": "markdown",
   "metadata": {},
   "source": [
    "### Fragment Shader\n",
    "\n",
    "O Fragment Shader recebe o vértice (já transformado no Vertex Shader) e as configurações referentes à iluminação (cor ambiente, posição da fonte de luz, cor da luz, componente especular e a quantidade de brilho do objeto.\n",
    "\n",
    "A Normal é calculada usando o produto vetorial entre os resultados das funções dFdx e dFdy (que retornam a dericada parcial do argumento em relação a x e a y, respectivamente) aplicadas ao vértice. Assim, a normal será a mesma para todos os vértices de uma face.\n",
    "\n",
    "Uma vez calculada a normal, são calculados os vetores L, E e R, que são usados no cálculo dos componentes difuso e especular. A cor final é dada pela soma dos componentes ambiente, difuso e especular."
   ]
  },
  {
   "cell_type": "code",
   "execution_count": null,
   "metadata": {},
   "outputs": [],
   "source": [
    "flat_fragment_shader = \"\"\"\n",
    "    #version 130\n",
    "\n",
    "    in vec3 Vertex;\n",
    "\n",
    "    uniform vec3 aColor;\n",
    "    uniform vec3 lPosition;\n",
    "    uniform vec3 lColor;\n",
    "    uniform vec3 lSpecular;\n",
    "    uniform float mShininess;\n",
    "\n",
    "    void main()\n",
    "    {\n",
    "        vec3 Normal = normalize(cross(dFdx(Vertex), dFdy(Vertex)));\n",
    "\n",
    "        vec3 L = normalize(lPosition - Vertex);\n",
    "        vec3 E = normalize(-Vertex);\n",
    "        vec3 R = normalize(-reflect(L, Normal));\n",
    "\n",
    "        vec4 ambient = vec4(aColor, 0);\n",
    "        vec4 diffuse = vec4(max(dot(L, Normal), 0) * lColor, 0.0);\n",
    "        vec4 specular = vec4(lSpecular * pow(max(dot(R, E), 0.0), 0.3 * mShininess), 0.0);\n",
    "        \n",
    "        gl_FragColor =  ambient + diffuse + specular;\n",
    "    }\n",
    "    \"\"\""
   ]
  },
  {
   "cell_type": "markdown",
   "metadata": {},
   "source": [
    "## Gouraud Shading\n",
    "\n",
    "No Gouraud Shading, as normais são interpoladas para cada vértice. As cores dos pontos são dadas pela interpolação das cores calculadas para os vértices."
   ]
  },
  {
   "cell_type": "markdown",
   "metadata": {},
   "source": [
    "### Vertex Shader\n",
    "\n",
    "No Vertex shader, são calculadas as cores dos vértices das faces.\n",
    "\n",
    "Assim, ele recebe as matrizes de tranformação (tanto dos vértices, quanto das normais) e as configurações referentes à iluminação.\n",
    "\n",
    "As transformações são aplicadas ao vértice e ao normal (obtidos por meio de gl_Vertex e gl_Normal, respectivamente). Após isso, são calculados os vetores L, E e R que serão usados para o cálculos dos componentes difuso e especular.\n",
    "\n",
    "A cor final é dada pela soma dos componentes ambiente, difuso e especular."
   ]
  },
  {
   "cell_type": "code",
   "execution_count": null,
   "metadata": {},
   "outputs": [],
   "source": [
    "gouraud_vertex_shader = \"\"\"\n",
    "    #version 130\n",
    "\n",
    "    uniform mat4 model_view_matrix;\n",
    "    uniform mat4 normal_matrix;\n",
    "    uniform mat4 model_view_projection_matrix;   \n",
    "      \n",
    "    uniform vec3 aColor;\n",
    "    uniform vec3 lPosition;\n",
    "    uniform vec3 lColor;\n",
    "    uniform vec3 lSpecular;\n",
    "    uniform float mShininess;\n",
    "\n",
    "    out vec4 newColor;\n",
    "    void main()\n",
    "    {\n",
    "        vec3 Vertex = vec3(model_view_matrix * gl_Vertex);\n",
    "        vec3 Normal = vec3(normalize(normal_matrix * vec4(gl_Normal, 0.0)));\n",
    "        gl_Position = model_view_projection_matrix * gl_Vertex;\n",
    "\n",
    "        vec3 L = normalize(lPosition - Vertex);\n",
    "        vec3 E = normalize(-Vertex);\n",
    "        vec3 R = normalize(-reflect(L, Normal));\n",
    "\n",
    "        vec4 ambient = vec4(aColor, 0);\n",
    "        vec4 diffuse = vec4(max(dot(L, Normal), 0) * lColor, 0.0);\n",
    "        vec4 specular = vec4(lSpecular * pow(max(dot(R, E), 0.0), 0.3 * mShininess), 0.0);\n",
    "        \n",
    "        newColor =  ambient + diffuse + specular;\n",
    "    }\n",
    "\n",
    "    \"\"\""
   ]
  },
  {
   "cell_type": "markdown",
   "metadata": {},
   "source": [
    "### Fragment Shader\n",
    "\n",
    "O Fragmente Shader apenas define o valor de gl_FragColor como o valor produzido pelo Vertex Shader. O OpenGL cuidará da interpolação das cores dos vértices."
   ]
  },
  {
   "cell_type": "code",
   "execution_count": null,
   "metadata": {},
   "outputs": [],
   "source": [
    "gouraud_fragment_shader = \"\"\"\n",
    "    #version 130\n",
    "\n",
    "    in vec4 newColor;\n",
    "\n",
    "    void main()\n",
    "    {\n",
    "        gl_FragColor = newColor;\n",
    "    }\n",
    "    \"\"\""
   ]
  },
  {
   "cell_type": "markdown",
   "metadata": {},
   "source": [
    "## Phong Shading\n",
    "\n",
    "No Phong Shading, as normais são interpoladas para cada ponto. Assim, a cor é calculada para cada um dos pontos."
   ]
  },
  {
   "cell_type": "markdown",
   "metadata": {},
   "source": [
    "### Vertex Shader\n",
    "\n",
    "No Vertex Shader, são aplicadas as transoformação na normal, obtida por gl_Normal, e no vértice, obtido por gl_Vertex.\n",
    "\n",
    "A Normal e o Vértice transformados são encaminhados para o Fragment Shader."
   ]
  },
  {
   "cell_type": "code",
   "execution_count": null,
   "metadata": {},
   "outputs": [],
   "source": [
    "phong_vertex_shader = \"\"\"\n",
    "    #version 130\n",
    "\n",
    "    uniform mat4 model_view_matrix;\n",
    "    uniform mat4 normal_matrix;\n",
    "    uniform mat4 model_view_projection_matrix;     \n",
    "\n",
    "    out vec3 Normal;\n",
    "    out vec3 Vertex;\n",
    "\n",
    "    void main()\n",
    "    {\n",
    "        Vertex = vec3(model_view_matrix * gl_Vertex);\n",
    "        Normal = vec3(normalize(normal_matrix * vec4(gl_Normal, 0.0)));\n",
    "        gl_Position = model_view_projection_matrix * gl_Vertex;\n",
    "    }\n",
    "\n",
    "    \"\"\""
   ]
  },
  {
   "cell_type": "markdown",
   "metadata": {},
   "source": [
    "### Fragment Shader\n",
    "\n",
    "No Fragment Shader, a Normal e o Vertex, calculados no Vertex Shader, são usados para se obter o calor dos vetores L, E e R, que são usados no cálculo dos componentes difuso e especular.\n",
    "\n",
    "A cor final é dada pela soma desses componentes."
   ]
  },
  {
   "cell_type": "code",
   "execution_count": null,
   "metadata": {},
   "outputs": [],
   "source": [
    "phong_fragment_shader = \"\"\"\n",
    "    #version 130\n",
    "\n",
    "    in vec3 Normal;\n",
    "    in vec3 Vertex;\n",
    "\n",
    "    uniform vec3 aColor;\n",
    "    uniform vec3 lPosition;\n",
    "    uniform vec3 lColor;\n",
    "    uniform vec3 lSpecular;\n",
    "    uniform float mShininess;\n",
    "\n",
    "    void main()\n",
    "    {\n",
    "        vec3 L = normalize(lPosition - Vertex);\n",
    "        vec3 E = normalize(-Vertex);\n",
    "        vec3 R = normalize(-reflect(L, Normal));\n",
    "\n",
    "        // Ambient\n",
    "        vec4 ambient = vec4(aColor, 1.0);\n",
    "\n",
    "        // Diffuse term\n",
    "        vec4 diffuse = vec4(max(dot(L, Normal), 0) * lColor, 0.0);\n",
    "\n",
    "        // Specular term\n",
    "        vec4 specular = vec4(lSpecular * pow(max(dot(R, E), 0.0), 0.3 * mShininess), 0.0);\n",
    "\n",
    "        gl_FragColor = ambient + diffuse + specular;\n",
    "    }\n",
    "    \"\"\""
   ]
  },
  {
   "cell_type": "markdown",
   "metadata": {},
   "source": [
    "## Funções de Desenho\n",
    "\n",
    "As funções draw_faces e draw_objects, apresentadas a seguir, são usadas para desenhar os objetos da cena. Serão desenhados três objetos: uma esfera, um cilíndro e um bule (teapot)."
   ]
  },
  {
   "cell_type": "code",
   "execution_count": null,
   "metadata": {},
   "outputs": [],
   "source": [
    "def draw_faces(obj):\n",
    "    vertices = obj[0]\n",
    "    normals = obj[1]\n",
    "    faces = obj[2]\n",
    "\n",
    "    glBegin(GL_TRIANGLES)\n",
    "    for face in faces:\n",
    "        face_vertices = face[0]\n",
    "        face_normals = face[1]\n",
    "        for i in range(3):\n",
    "            glNormal3f(float(normals[face_normals[i]-1][0]), float(normals[face_normals[i]-1][1]), float(normals[face_normals[i]-1][2]))\n",
    "            glVertex3f(float(vertices[face_vertices[i]-1][0]), float(vertices[face_vertices[i]-1][1]), float(vertices[face_vertices[i]-1][2]))\n",
    "    glEnd()\n",
    "\n",
    "def draw_objects(shader):\n",
    "    glClear(GL_COLOR_BUFFER_BIT | GL_DEPTH_BUFFER_BIT)\n",
    "\n",
    "    # Create perspective matrix\n",
    "    pers = glm.perspective(0.5,1.0,0.1,50.0)\n",
    "\n",
    "    # Create rotation matrix\n",
    "    rot_x = glm.rotate(glm.mat4(1.0),0.5 * glfw.get_time(),glm.vec3(1.0,0.0,0.0))\n",
    "    rot_y = glm.rotate(glm.mat4(1.0),0.5 * glfw.get_time(),glm.vec3(0.0,1.0,0.0))\n",
    "\n",
    "    # Create normal transformation matrix\n",
    "    normal_matrix = glm.mat4(1.0)\n",
    "    normalMatrixLoc = glGetUniformLocation(shader, \"normal_matrix\")\n",
    "    glUniformMatrix4fv(normalMatrixLoc, 1, GL_FALSE, glm.value_ptr(normal_matrix*rot_x*rot_y))\n",
    "\n",
    "    # Create tranformation matrix for sphere\n",
    "    trans = glm.translate(glm.mat4(1.0), glm.vec3(-0.8,0.8,-5.5))\n",
    "\n",
    "    modelViewLoc = glGetUniformLocation(shader, \"model_view_matrix\")\n",
    "    glUniformMatrix4fv(modelViewLoc, 1, GL_FALSE, glm.value_ptr(trans*rot_x*rot_y))\n",
    "\n",
    "    modelViewProjLoc = glGetUniformLocation(shader, \"model_view_projection_matrix\")\n",
    "    glUniformMatrix4fv(modelViewProjLoc, 1, GL_FALSE, glm.value_ptr(pers*trans*rot_x*rot_y))\n",
    "\n",
    "    # Draw Sphere\n",
    "    sphere_quadric = gluNewQuadric()\n",
    "    gluQuadricNormals(sphere_quadric, GLU_SMOOTH)\n",
    "    gluSphere(sphere_quadric, 0.35, 20, 20)\n",
    "\n",
    "    # Create tranformation matrix for teapot\n",
    "    trans = glm.translate(glm.mat4(1.0), glm.vec3(0.0,0.0,-20.5))\n",
    "\n",
    "    scale = glm.scale(glm.mat4(1.0), glm.vec3(0.1, 0.1, 0.1))\n",
    "    \n",
    "    modelViewLoc = glGetUniformLocation(shader, \"model_view_matrix\")\n",
    "    glUniformMatrix4fv(modelViewLoc, 1, GL_FALSE, glm.value_ptr(trans*scale*rot_x*rot_y))\n",
    "\n",
    "    modelViewProjLoc = glGetUniformLocation(shader, \"model_view_projection_matrix\")\n",
    "    glUniformMatrix4fv(modelViewProjLoc, 1, GL_FALSE, glm.value_ptr(pers*trans*scale*rot_x*rot_y))\n",
    "    \n",
    "    draw_faces(teapot_faces)\n",
    "\n",
    "    # Create tranformation matrix for cylinder\n",
    "    trans = glm.translate(glm.mat4(1.0), glm.vec3(0.8,-0.8,-5.5))\n",
    "\n",
    "    modelViewLoc = glGetUniformLocation(shader, \"model_view_matrix\")\n",
    "    glUniformMatrix4fv(modelViewLoc, 1, GL_FALSE, glm.value_ptr(trans*rot_x*rot_y))\n",
    "\n",
    "    modelViewProjLoc = glGetUniformLocation(shader, \"model_view_projection_matrix\")\n",
    "    glUniformMatrix4fv(modelViewProjLoc, 1, GL_FALSE, glm.value_ptr(pers*trans*rot_x*rot_y))\n",
    "\n",
    "    # Draw cylinder\n",
    "    cylinder_quad = gluNewQuadric()\n",
    "    gluQuadricNormals(cylinder_quad, GLU_SMOOTH)\n",
    "    gluCylinder(cylinder_quad, 0.25, 0.25, 0.5, 10, 10)"
   ]
  },
  {
   "cell_type": "markdown",
   "metadata": {},
   "source": [
    "## Definindo propriedades de iluminação\n",
    "\n",
    "A função define_ambient_parameters define parâmetros dos objetos da cena e da fonte de luz, como a cor ambiente, posição da fonte de luz, cor da luz, componente especular e a quantidade de brilho dos materiais."
   ]
  },
  {
   "cell_type": "code",
   "execution_count": null,
   "metadata": {},
   "outputs": [],
   "source": [
    "def define_ambient_parameters(shader):\n",
    "    aColor = [0.0, 0.0, 0.5]\n",
    "    lPosition = [300, 300, 300]\n",
    "    lColor = [0.5, 0.5, 0.5]\n",
    "    lSpecular = [1.0, 1.0, 1.0]\n",
    "    mShininess = 25\n",
    "\n",
    "    aColor = numpy.array(aColor, dtype = numpy.float32)\n",
    "    lPosition = numpy.array(lPosition, dtype = numpy.float32)\n",
    "    lColor = numpy.array(lColor, dtype = numpy.float32)\n",
    "    lSpecular = numpy.array(lSpecular, dtype = numpy.float32)\n",
    "\n",
    "    aColorLoc = glGetUniformLocation(shader, \"aColor\")\n",
    "    glUniform3fv(aColorLoc, 1, aColor)\n",
    "\n",
    "    lPositionLoc = glGetUniformLocation(shader, \"lPosition\")\n",
    "    glUniform3fv(lPositionLoc, 1, lPosition)\n",
    "\n",
    "    lColorLoc = glGetUniformLocation(shader, \"lColor\")\n",
    "    glUniform3fv(lColorLoc, 1, lColor)\n",
    "\n",
    "    lSpecularLoc = glGetUniformLocation(shader, \"lSpecular\")\n",
    "    glUniform3fv(lSpecularLoc, 1, lSpecular)\n",
    "\n",
    "    mShininessLoc = glGetUniformLocation(shader, \"mShininess\")\n",
    "    glUniform1f(mShininessLoc, mShininess)\n",
    "\n",
    "    glClearColor(0.2, 0.3, 0.2, 1.0)\n",
    "    glEnable(GL_DEPTH_TEST)"
   ]
  },
  {
   "cell_type": "markdown",
   "metadata": {},
   "source": [
    "## Funções Auxiliares\n",
    "\n",
    "A função read_obj_file lê um arquivo obj que contém o modelo de um objeto 3D. Ela é usada para ler o arquivo *teapot.obj*. Função adaptada de [1]."
   ]
  },
  {
   "cell_type": "code",
   "execution_count": null,
   "metadata": {},
   "outputs": [],
   "source": [
    "def read_obj_file(filename, swapyz=False):\n",
    "    vertices = []\n",
    "    normals = []\n",
    "    texcoords = []\n",
    "    faces = []\n",
    "\n",
    "    material = None\n",
    "    for line in open(filename, \"r\"):\n",
    "        if line.startswith('#'): continue\n",
    "        values = line.split()\n",
    "        if not values: continue\n",
    "        if values[0] == 'v':\n",
    "            v = values[1:4]\n",
    "            if swapyz:\n",
    "                v = v[0], v[2], v[1]\n",
    "            vertices.append(v)\n",
    "        elif values[0] == 'vn':\n",
    "            v = values[1:4]\n",
    "            if swapyz:\n",
    "                v = v[0], v[2], v[1]\n",
    "            normals.append(v)\n",
    "        elif values[0] == 'vt':\n",
    "            texcoords.append(map(float, values[1:3]))\n",
    "        elif values[0] in ('usemtl', 'usemat'):\n",
    "            material = values[1]\n",
    "        elif values[0] == 'mtllib':\n",
    "            mtl = MTL(values[1])\n",
    "        elif values[0] == 'f':\n",
    "            face = []\n",
    "            texcoords = []\n",
    "            norms = []\n",
    "            for v in values[1:]:\n",
    "                w = v.split('/')\n",
    "                face.append(int(w[0]))\n",
    "                if len(w) >= 2 and len(w[1]) > 0:\n",
    "                    texcoords.append(int(w[1]))\n",
    "                else:\n",
    "                    texcoords.append(0)\n",
    "                if len(w) >= 3 and len(w[2]) > 0:\n",
    "                    norms.append(int(w[2]))\n",
    "                else:\n",
    "                    norms.append(0)\n",
    "            faces.append((face, norms, texcoords, material))\n",
    "    \n",
    "    return (vertices, normals, faces)\n",
    "\n",
    "# Carrega modelo do Teapot\n",
    "teapot_faces = read_obj_file(\"teapot.obj\")"
   ]
  },
  {
   "cell_type": "markdown",
   "metadata": {},
   "source": [
    "## Demonstração do Flat Shading"
   ]
  },
  {
   "cell_type": "code",
   "execution_count": null,
   "metadata": {},
   "outputs": [],
   "source": [
    "def flat_shading():\n",
    "\n",
    "    # initialize glfw\n",
    "    if not glfw.init():\n",
    "        return\n",
    "\n",
    "    window = glfw.create_window(800, 600, \"Flat Shading\", None, None)\n",
    "\n",
    "    if not window:\n",
    "        glfw.terminate()\n",
    "        return\n",
    "\n",
    "    glfw.make_context_current(window)\n",
    "\n",
    "    shader = OpenGL.GL.shaders.compileProgram(OpenGL.GL.shaders.compileShader(flat_vertex_shader, GL_VERTEX_SHADER),\n",
    "                                              OpenGL.GL.shaders.compileShader(flat_fragment_shader, GL_FRAGMENT_SHADER))\n",
    "   \n",
    "    glUseProgram(shader)\n",
    "\n",
    "    define_ambient_parameters(shader)\n",
    "\n",
    "    while not glfw.window_should_close(window):\n",
    "        glfw.poll_events()\n",
    "\n",
    "        draw_objects(shader)\n",
    "\n",
    "        glfw.swap_buffers(window)\n",
    "\n",
    "    glfw.terminate()\n",
    "\n",
    "flat_shading()"
   ]
  },
  {
   "cell_type": "markdown",
   "metadata": {},
   "source": [
    "## Demonstração do Gouraud Shading"
   ]
  },
  {
   "cell_type": "code",
   "execution_count": null,
   "metadata": {},
   "outputs": [],
   "source": [
    "def gouraud_shading():\n",
    "\n",
    "    # initialize glfw\n",
    "    if not glfw.init():\n",
    "        return\n",
    "\n",
    "    window = glfw.create_window(800, 600, \"Gouraud Shading\", None, None)\n",
    "\n",
    "    if not window:\n",
    "        glfw.terminate()\n",
    "        return\n",
    "\n",
    "    glfw.make_context_current(window)\n",
    "\n",
    "    shader = OpenGL.GL.shaders.compileProgram(OpenGL.GL.shaders.compileShader(gouraud_vertex_shader, GL_VERTEX_SHADER),\n",
    "                                              OpenGL.GL.shaders.compileShader(gouraud_fragment_shader, GL_FRAGMENT_SHADER))\n",
    "   \n",
    "    glUseProgram(shader)\n",
    "\n",
    "    define_ambient_parameters(shader)\n",
    "\n",
    "    while not glfw.window_should_close(window):\n",
    "        glfw.poll_events()\n",
    "\n",
    "        draw_objects(shader)\n",
    "\n",
    "        glfw.swap_buffers(window)\n",
    "\n",
    "    glfw.terminate()\n",
    "\n",
    "gouraud_shading()"
   ]
  },
  {
   "cell_type": "markdown",
   "metadata": {},
   "source": [
    "## Demonstração do Phong Shading"
   ]
  },
  {
   "cell_type": "code",
   "execution_count": null,
   "metadata": {},
   "outputs": [],
   "source": [
    "def phong_shading():\n",
    "\n",
    "    # initialize glfw\n",
    "    if not glfw.init():\n",
    "        return\n",
    "\n",
    "    window = glfw.create_window(800, 600, \"Phong Shading\", None, None)\n",
    "\n",
    "    if not window:\n",
    "        glfw.terminate()\n",
    "        return\n",
    "\n",
    "    glfw.make_context_current(window)\n",
    "\n",
    "    shader = OpenGL.GL.shaders.compileProgram(OpenGL.GL.shaders.compileShader(phong_vertex_shader, GL_VERTEX_SHADER),\n",
    "                                              OpenGL.GL.shaders.compileShader(phong_fragment_shader, GL_FRAGMENT_SHADER))\n",
    "   \n",
    "    glUseProgram(shader)\n",
    "\n",
    "    define_ambient_parameters(shader)\n",
    "\n",
    "    while not glfw.window_should_close(window):\n",
    "        glfw.poll_events()\n",
    "\n",
    "        draw_objects(shader)\n",
    "\n",
    "        glfw.swap_buffers(window)\n",
    "\n",
    "    glfw.terminate()\n",
    "\n",
    "phong_shading()"
   ]
  },
  {
   "cell_type": "markdown",
   "metadata": {},
   "source": [
    "## Análise dos Resultados\n",
    "\n",
    "Como os três algoritmos de iluminação implementados calculam as cores dos pontos de maneiras diferentes, é esperado que o resultados de um deles seja bem diferente.\n",
    "\n",
    "No Flat, como é usada uma cor para todos os pontos de uma face, os objetos renderizados ficam com um aspecto quadriculado, como na imagem abaixo\n",
    "\n",
    "<img src=\"imgs/flat.png\" />\n",
    "\n",
    "Já no Gouraud, como é calculada uma cor para cada vértice da face, e as cores dos vértices são interpoladas para os outros pontos, não há mais o aspecto quadriculado observado com o Flat Shading. Entretanto, como é feita apenas uma interpolação, alguns elemntos, como o reflexo causado pelo componente especular, ficam menos definidos (Note na esfera na imagem abaixo).\n",
    "\n",
    "<img src=\"imgs/gouraud.png\" />\n",
    "\n",
    "Com o Phong, o resultado fica ainda melhor. Como as normais são interpoladas para cada ponto, o que implica no cálculo da cor de cada ponto, não há mais elementos pouco definidos, como observado no Gouraud Shading. Na imagem abaixo, é posível notar como os reflexos causados pelo componente especular ficam mais evidentes e definidos.\n",
    "\n",
    "<img src=\"imgs/phong.png\" />\n",
    "\n",
    "### Diferença dos algoritmos de Gouraud e de Phong\n",
    "\n",
    "Uma das principais diferenças entre os resultados obtidos com o algoritmo de Gouraud e o de Phong está no componente especular. Como no Gouraud é feita uma interpolação, se o reflexo causado pelo componente especular for muito pequeno, provavelmente, ele não aparecerá no objeto, visto que ele pode desaparecer devido à interpolação. Já em Phong, como não há interpolação, e a cor é calculada para cada ponto, isso não acontece. A imagem abaixo ilustra esse fenômeno.\n",
    "\n",
    "<img src=\"imgs/spec_phong.png\" />\n",
    "\n",
    "<img src=\"imgs/spec_gouraud.png\" />"
   ]
  },
  {
   "cell_type": "markdown",
   "metadata": {},
   "source": [
    "## Referências Biliográficas\n",
    "\n",
    "[1] https://www.pygame.org/wiki/OBJFileLoader\n",
    "\n",
    "[2] https://github.com/kevinroast/phoria.js/blob/master/teapot.obj\n",
    "\n",
    "[3] https://www.opengl.org/sdk/docs/tutorials/ClockworkCoders/lighting.php"
   ]
  },
  {
   "cell_type": "code",
   "execution_count": null,
   "metadata": {},
   "outputs": [],
   "source": []
  }
 ],
 "metadata": {
  "kernelspec": {
   "display_name": "Python 3",
   "language": "python",
   "name": "python3"
  },
  "language_info": {
   "codemirror_mode": {
    "name": "ipython",
    "version": 3
   },
   "file_extension": ".py",
   "mimetype": "text/x-python",
   "name": "python",
   "nbconvert_exporter": "python",
   "pygments_lexer": "ipython3",
   "version": "3.6.5"
  }
 },
 "nbformat": 4,
 "nbformat_minor": 2
}
